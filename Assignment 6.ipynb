{
 "cells": [
  {
   "cell_type": "code",
   "execution_count": null,
   "id": "64da8cce-f9c1-4636-b938-b7df5833e989",
   "metadata": {},
   "outputs": [],
   "source": [
    "# Q1. Explain the difference between def statements and lambda expressions. Give an\n",
    "# example of each."
   ]
  },
  {
   "cell_type": "markdown",
   "id": "8a1c334b-3d41-4412-a555-f72f28ffe7cf",
   "metadata": {},
   "source": [
    "Def and Lmabda expressions are used for creating functions in Python. Def used to define a function with a name and can contain multiple lines, conditions,loops  whereas Lambda used to create anonymous functions and it is limited to a single expression.\n",
    "\n",
    "Example for Def statement\n",
    "def Multiply(a, b):\n",
    "    return a * b\n",
    "\n",
    "print(Multiply(10, 5))\n",
    "\n",
    "Example for Lambda statement\n",
    "Multiply = lambda a, b: a * b\n",
    "\n",
    "  print(Multiply(10, 5))"
   ]
  },
  {
   "cell_type": "code",
   "execution_count": null,
   "id": "071755bb-cf6c-4e00-a176-111c276c47a9",
   "metadata": {},
   "outputs": [],
   "source": [
    "# Q2. List and explain three benefits of using lambda expressions."
   ]
  },
  {
   "cell_type": "markdown",
   "id": "921cd21b-f474-4eb5-9598-4426e3724e12",
   "metadata": {},
   "source": [
    "1.No Need for Named Functions\n",
    "2.Improved Readability\n",
    "3.Concise Syntax"
   ]
  },
  {
   "cell_type": "code",
   "execution_count": 3,
   "id": "c56759c0-2c19-44fd-a408-ddd70ebaadf8",
   "metadata": {},
   "outputs": [],
   "source": [
    "# # Q3. Compare map(), filter(), and reduce() with one-line examples using a lambda\n",
    "# function and a list."
   ]
  },
  {
   "cell_type": "markdown",
   "id": "8032ffb1-c90d-4804-9ed7-8cf15dfa7c4c",
   "metadata": {},
   "source": [
    "map()= Transform items\n",
    "list(map(lambda x: x * 2, [1, 2, 3, 4]))  # ➝ [2, 4, 6, 8]\n",
    "\n",
    "filter()= Select items based on conditions\n",
    "list(filter(lambda x: x % 2 == 0, [1, 2, 3, 4]))  # ➝ [2, 4]\n",
    "\n",
    "reduce()= Combine items into one value\n",
    "from functools import reduce\n",
    "reduce(lambda x, y: x + y, [1, 2, 3, 4])  # ➝ 10\n"
   ]
  },
  {
   "cell_type": "code",
   "execution_count": 60,
   "id": "a23d8a15-12bb-4cad-b871-b39985a543a9",
   "metadata": {},
   "outputs": [],
   "source": [
    "# Q4. What are function annotations in Python? Write a function that uses them."
   ]
  },
  {
   "cell_type": "markdown",
   "id": "f80efe68-e753-4e91-bee9-8d6c49664cdb",
   "metadata": {},
   "source": [
    "Function annotations in Python are like little notes or hints you can add to your function to show what type of data it should receive and give back.\n",
    "\n",
    "Think of them as labels that tell other people (or tools like code editors) what kind of input and output the function is expected to work with — like saying \"this should be a number\" or \"this will return a string\".\n",
    "\n",
    "def add(a: int, b: int) -> int:\n",
    "    return a + b"
   ]
  },
  {
   "cell_type": "code",
   "execution_count": 63,
   "id": "8ff6f06d-16ec-4f3d-b35c-051678cd91c3",
   "metadata": {},
   "outputs": [],
   "source": [
    "# Q5. What is a recursive function? Write a simple recursive function to calculate the\n",
    "# factorial of a number."
   ]
  },
  {
   "cell_type": "markdown",
   "id": "84ff8142-52d3-4bb9-9615-4c741034d9f3",
   "metadata": {},
   "source": [
    "A recursive function is a function that calls itself in order to solve a smaller piece of a problem — like breaking a big task into smaller and smaller tasks until it becomes simple enough to solve directly.\n",
    "\n",
    "def factorial(n: int) -> int:\n",
    "    if n == 0 or n == 1:\n",
    "        return 1  # Base case\n",
    "    else:\n",
    "        return n * factorial(n - 1) \n"
   ]
  },
  {
   "cell_type": "code",
   "execution_count": 66,
   "id": "700a9711-61f9-4a43-bb4d-a2ab60ca449f",
   "metadata": {},
   "outputs": [],
   "source": [
    "# Q6. State five design guidelines you should follow while writing functions in Python."
   ]
  },
  {
   "cell_type": "markdown",
   "id": "796c9521-d647-4118-b695-475d6c4c05bb",
   "metadata": {},
   "source": [
    "1. Name it Clearly\n",
    "2. Add Type Hints\n",
    "3. Readability and Clarity\n",
    "4. Use Docstring\n",
    "5. Single Responsibility Principle"
   ]
  },
  {
   "cell_type": "code",
   "execution_count": 69,
   "id": "7c614fe6-2301-4151-a4ad-418ea9ae619f",
   "metadata": {},
   "outputs": [],
   "source": [
    "# Q7. Name at least three ways a function can communicate results to a caller and briefly\n",
    "# explain each."
   ]
  },
  {
   "cell_type": "markdown",
   "id": "363113cb-2315-4aa4-83ae-5a3b0d23ee9e",
   "metadata": {},
   "source": [
    "1. Returning a Value-\n",
    "   This is the most common and direct way.\n",
    "   The function sends back a result using the return keyword, and the caller can store or use it.\n",
    "2. Printing Output-\n",
    "   A function can use print() to display results directly.\n",
    "   This doesn’t return anything to the caller programmatically, but it's useful for user-facing messages or debugging.\n",
    "3. Modifying Mutable Arguments-\n",
    "   If you pass a mutable object (like a list or dictionary) into a function, the function can change it — and those changes will be visible outside the    function too."
   ]
  },
  {
   "cell_type": "markdown",
   "id": "16ef12e0-4249-4ec9-8439-f3441dbfa667",
   "metadata": {},
   "source": [
    "2. Coding Tasks"
   ]
  },
  {
   "cell_type": "code",
   "execution_count": 73,
   "id": "11c18c43-ecd4-4083-abdc-eed6abba75a6",
   "metadata": {},
   "outputs": [],
   "source": [
    "# Task 1:\n",
    "# Write a lambda function that takes two numbers and returns their product. Assign it to a\n",
    "# variable and call it with 5 and 7."
   ]
  },
  {
   "cell_type": "code",
   "execution_count": 75,
   "id": "4783d99c-f0c7-4e53-b49a-689214357bdc",
   "metadata": {},
   "outputs": [
    {
     "name": "stdout",
     "output_type": "stream",
     "text": [
      "35\n"
     ]
    }
   ],
   "source": [
    "Product = lambda x, y: x * y\n",
    "result = Product(5, 7)\n",
    "print(result)"
   ]
  },
  {
   "cell_type": "code",
   "execution_count": 77,
   "id": "a5625a37-d2fe-45ae-83d6-48154d4a9691",
   "metadata": {},
   "outputs": [],
   "source": [
    "# Task 2:\n",
    "# Use map() to square every number in a list [1, 2, 3, 4, 5]."
   ]
  },
  {
   "cell_type": "code",
   "execution_count": 79,
   "id": "7bed388f-bfa3-43a8-97e0-e3ec370c5569",
   "metadata": {},
   "outputs": [
    {
     "data": {
      "text/plain": [
       "[1, 4, 9, 16, 25]"
      ]
     },
     "execution_count": 79,
     "metadata": {},
     "output_type": "execute_result"
    }
   ],
   "source": [
    "numbers = [1, 2, 3, 4, 5]\n",
    "squared_numbers = list(map(lambda x: x**2, numbers))\n",
    "squared_numbers"
   ]
  },
  {
   "cell_type": "code",
   "execution_count": 81,
   "id": "f03c228d-20eb-4fe6-8183-c0defe8d0b7e",
   "metadata": {},
   "outputs": [],
   "source": [
    "# Task 3:\n",
    "# Use filter() to extract only the even numbers from the list [10, 15, 20, 25, 30]."
   ]
  },
  {
   "cell_type": "code",
   "execution_count": 83,
   "id": "f398c135-686e-49e2-b211-a9e834b9bcda",
   "metadata": {},
   "outputs": [
    {
     "name": "stdout",
     "output_type": "stream",
     "text": [
      "[10, 20, 30]\n"
     ]
    }
   ],
   "source": [
    "print(list(filter(lambda x: x % 2 == 0, [10, 15, 20, 25, 30])))\n"
   ]
  },
  {
   "cell_type": "code",
   "execution_count": 85,
   "id": "3ad8dec8-4a64-49b3-b771-a0e9efdf1520",
   "metadata": {},
   "outputs": [],
   "source": [
    "# Task 4:\n",
    "# Use reduce() from functools to calculate the product of numbers in [1, 2, 3, 4, 5]."
   ]
  },
  {
   "cell_type": "code",
   "execution_count": 87,
   "id": "9e652e3f-b386-4ef4-a978-7ff5520f892b",
   "metadata": {},
   "outputs": [
    {
     "data": {
      "text/plain": [
       "120"
      ]
     },
     "execution_count": 87,
     "metadata": {},
     "output_type": "execute_result"
    }
   ],
   "source": [
    "from functools import reduce\n",
    "product = reduce((lambda x, y: x * y), [1, 2, 3, 4, 5])\n",
    "product"
   ]
  },
  {
   "cell_type": "code",
   "execution_count": 89,
   "id": "ff9b5dbe-8f50-4774-9ade-b6ca01758b80",
   "metadata": {},
   "outputs": [],
   "source": [
    "# Task 5:\n",
    "# Create a function with annotations that:\n",
    "# • takes an integer as input,\n",
    "# • returns a string saying whether it is \"Even\" or \"Odd\"."
   ]
  },
  {
   "cell_type": "code",
   "execution_count": 91,
   "id": "8dae9e95-b830-4aeb-8358-641195f9a37b",
   "metadata": {},
   "outputs": [],
   "source": [
    "def even_odd(num: int) -> str:\n",
    "    if num % 2 == 0:\n",
    "       return \"Even\"\n",
    "    else:\n",
    "       return \"Odd\""
   ]
  },
  {
   "cell_type": "code",
   "execution_count": 93,
   "id": "00e8336a-fe90-4b5e-b7d8-ccfe5c180894",
   "metadata": {},
   "outputs": [
    {
     "name": "stdout",
     "output_type": "stream",
     "text": [
      "Odd\n"
     ]
    }
   ],
   "source": [
    "result = even_odd(11)\n",
    "print(result)    "
   ]
  },
  {
   "cell_type": "code",
   "execution_count": 95,
   "id": "1b4350c7-50d8-4edf-9302-62c868dec6c9",
   "metadata": {},
   "outputs": [],
   "source": [
    "# Task 6:\n",
    "# Write a recursive function to compute the sum of all numbers from 1 to n."
   ]
  },
  {
   "cell_type": "code",
   "execution_count": 52,
   "id": "3f16b7a3-9f4e-4182-a5f4-f93548909110",
   "metadata": {},
   "outputs": [],
   "source": [
    "def recursive_sum(n):\n",
    "  if n <= 1:\n",
    "    return n\n",
    "  else:\n",
    "    return n + recursive_sum(n - 1)"
   ]
  },
  {
   "cell_type": "code",
   "execution_count": 56,
   "id": "a179b4f5-61e6-492a-a8ec-2ff24e01715d",
   "metadata": {},
   "outputs": [
    {
     "data": {
      "text/plain": [
       "210"
      ]
     },
     "execution_count": 56,
     "metadata": {},
     "output_type": "execute_result"
    }
   ],
   "source": [
    "recursive_sum(20)"
   ]
  },
  {
   "cell_type": "code",
   "execution_count": null,
   "id": "acffda5c-007f-4dce-a756-d4399c01115d",
   "metadata": {},
   "outputs": [],
   "source": [
    "# Bonus Question\n",
    "# Write a function that returns different results using print, return, and yield. Call the\n",
    "# function and show how each type of output works."
   ]
  },
  {
   "cell_type": "markdown",
   "id": "0a338c6b-20b0-4950-a53d-d917a283b66d",
   "metadata": {},
   "source": [
    "print: displays something immediately\n",
    "\n",
    "return: sends back a single result to the caller\n",
    "\n",
    "yield: generates a sequence of results one at a time (used in generators)"
   ]
  }
 ],
 "metadata": {
  "kernelspec": {
   "display_name": "Python 3 (ipykernel)",
   "language": "python",
   "name": "python3"
  },
  "language_info": {
   "codemirror_mode": {
    "name": "ipython",
    "version": 3
   },
   "file_extension": ".py",
   "mimetype": "text/x-python",
   "name": "python",
   "nbconvert_exporter": "python",
   "pygments_lexer": "ipython3",
   "version": "3.12.7"
  }
 },
 "nbformat": 4,
 "nbformat_minor": 5
}
