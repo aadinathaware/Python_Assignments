{
 "cells": [
  {
   "cell_type": "code",
   "execution_count": null,
   "id": "eaceb341-cf72-440e-8563-4cf6b0ec3d2c",
   "metadata": {},
   "outputs": [],
   "source": [
    "# Que 1 Create a variable x with the value 15 . Perform floored division by 4 and\n",
    "#print the result. What is the difference between floored division and normal division?\n",
    "x = 15\n",
    "result = x // 4\n",
    "print(result)\n",
    "\n"
   ]
  },
  {
   "cell_type": "code",
   "execution_count": 1,
   "id": "16ab075f-51af-4ab8-a5cc-191521c73048",
   "metadata": {},
   "outputs": [
    {
     "name": "stdout",
     "output_type": "stream",
     "text": [
      "8 ** 2 = 64\n",
      "16 ** 0.5 = 4.0\n"
     ]
    }
   ],
   "source": [
    "# Que 2 Write a program to calculate 8 ** 2 and 16 ** 0.5 . Print both results and describe what each represents.\n",
    "    \n",
    "result1 = 8 ** 2\n",
    "result2 = 16 ** 0.5\n",
    "\n",
    "print(\"8 ** 2 =\", result1)\n",
    "print(\"16 ** 0.5 =\", result2)\n"
   ]
  },
  {
   "cell_type": "code",
   "execution_count": 2,
   "id": "95ba23e6-3838-4337-9ccf-f4eab2326573",
   "metadata": {},
   "outputs": [
    {
     "name": "stdout",
     "output_type": "stream",
     "text": [
      "Result: 10.25\n"
     ]
    }
   ],
   "source": [
    "# Question 3 Use arithmetic operators to solve the following expression: 20 - 5 * 3 + 8 / 4 . \n",
    "# Use parentheses to make sure the addition happens before multiplication. Print the output.\n",
    "# Original expression with custom precedence\n",
    "result = 20 - (5 + 8) * 3 / 4\n",
    "\n",
    "# Print the result\n",
    "print(\"Result:\", result)\n"
   ]
  },
  {
   "cell_type": "code",
   "execution_count": 3,
   "id": "769af3fb-5e0e-47e2-855d-842725617cf3",
   "metadata": {},
   "outputs": [
    {
     "name": "stdout",
     "output_type": "stream",
     "text": [
      "7.0\n"
     ]
    }
   ],
   "source": [
    "# Que 4 Assign the value 7 to a variable num . Convert it to a float and print the result. What is the difference between 7 and 7.0 ?\n",
    "num = 7\n",
    "float_num = float(num)\n",
    "print(float_num)\n"
   ]
  },
  {
   "cell_type": "code",
   "execution_count": 5,
   "id": "a19438b4-c87f-4024-9172-729b77514782",
   "metadata": {},
   "outputs": [
    {
     "name": "stdout",
     "output_type": "stream",
     "text": [
      "True\n"
     ]
    },
    {
     "data": {
      "text/plain": [
       "bool"
      ]
     },
     "execution_count": 5,
     "metadata": {},
     "output_type": "execute_result"
    }
   ],
   "source": [
    "# Que 5 Use a comparison operator to check if 100 is greater than 50 . Print the result and indicate what type of value this is.\n",
    "result = 100 > 50\n",
    "print(result)\n",
    "type(result)\n"
   ]
  },
  {
   "cell_type": "code",
   "execution_count": 6,
   "id": "d4bf352f-13fe-4139-ab52-926129e3ffe0",
   "metadata": {},
   "outputs": [
    {
     "name": "stdout",
     "output_type": "stream",
     "text": [
      "False\n"
     ]
    }
   ],
   "source": [
    "# Que 6 Assign True to a variable is_sunny and False to is_weekend . Use logical operators to check if it is sunny and the weekend ( is_sunny and is_weekend ).Print the result.\n",
    "\n",
    "is_sunny = True\n",
    "is_weekend = False\n",
    "\n",
    "result = is_sunny and is_weekend\n",
    "print(result)\n"
   ]
  },
  {
   "cell_type": "code",
   "execution_count": 7,
   "id": "ced9462a-2104-41b9-8e08-596981cce979",
   "metadata": {},
   "outputs": [
    {
     "name": "stdin",
     "output_type": "stream",
     "text": [
      "Enter the password:  my_password123\n"
     ]
    },
    {
     "name": "stdout",
     "output_type": "stream",
     "text": [
      "True\n"
     ]
    }
   ],
   "source": [
    "# Que 7 Create a variable password and set it to \"my_password123\" . Ask the user to input\n",
    "# a password and print True if the input matches the value of password , otherwise print False .\n",
    "# Set the correct password\n",
    "password = \"my_password123\"\n",
    "user_input = input(\"Enter the password: \")\n",
    "if user_input == password:\n",
    "    print(True)\n",
    "else:\n",
    "    print(False)\n"
   ]
  },
  {
   "cell_type": "code",
   "execution_count": 9,
   "id": "bbc16327-a406-4a77-9070-74d8441ca58d",
   "metadata": {},
   "outputs": [
    {
     "name": "stdout",
     "output_type": "stream",
     "text": [
      "55\n"
     ]
    }
   ],
   "source": [
    "# Que 8 Assign the value 50 to a variable marks . Increment the value of marks by 5\n",
    "# using the += operator, then print the new value.\n",
    "# Assigning initial value to marks\n",
    "marks = 50\n",
    "marks += 5\n",
    "print(marks)\n"
   ]
  },
  {
   "cell_type": "code",
   "execution_count": 10,
   "id": "a8752acb-daca-4663-bf44-fce00cde38c2",
   "metadata": {},
   "outputs": [
    {
     "name": "stdout",
     "output_type": "stream",
     "text": [
      "10\n"
     ]
    }
   ],
   "source": [
    "# Que 9 Write a program to check if the value of a = 0 and b = 10 satisfies a or b .\n",
    "# Print the output and explain why it gives that result.\n",
    "a = 0\n",
    "b = 10\n",
    "result = a or b\n",
    "print(result)\n"
   ]
  },
  {
   "cell_type": "code",
   "execution_count": 11,
   "id": "b413555a-5347-474a-9185-f3cdd711621d",
   "metadata": {},
   "outputs": [
    {
     "name": "stdout",
     "output_type": "stream",
     "text": [
      "True\n"
     ]
    }
   ],
   "source": [
    "# Que 10 Use not to negate the value of False and print the result. Explain what the not operator does in Python.\n",
    "result = not False\n",
    "print(result)\n"
   ]
  },
  {
   "cell_type": "code",
   "execution_count": null,
   "id": "5ae8215c-46ec-4e70-a06b-7839370a1b68",
   "metadata": {},
   "outputs": [],
   "source": []
  }
 ],
 "metadata": {
  "kernelspec": {
   "display_name": "Python 3 (ipykernel)",
   "language": "python",
   "name": "python3"
  },
  "language_info": {
   "codemirror_mode": {
    "name": "ipython",
    "version": 3
   },
   "file_extension": ".py",
   "mimetype": "text/x-python",
   "name": "python",
   "nbconvert_exporter": "python",
   "pygments_lexer": "ipython3",
   "version": "3.12.10"
  }
 },
 "nbformat": 4,
 "nbformat_minor": 5
}
