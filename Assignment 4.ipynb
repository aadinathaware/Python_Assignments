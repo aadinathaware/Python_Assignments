{
 "cells": [
  {
   "cell_type": "code",
   "execution_count": 2,
   "id": "fa27aa71-41d0-48f5-a659-0aea440c50da",
   "metadata": {},
   "outputs": [
    {
     "name": "stdin",
     "output_type": "stream",
     "text": [
      "Enter a number:  8\n"
     ]
    },
    {
     "name": "stdout",
     "output_type": "stream",
     "text": [
      "Even\n"
     ]
    }
   ],
   "source": [
    "# Que 1: Write a Python program that checks if a number entered by the user is even or odd. \n",
    "# Print \"Even\" if the number is even and \"Odd\" if it is odd.\n",
    "\n",
    "num = int(input(\"Enter a number: \"))\n",
    "if num % 2 == 0:\n",
    "    print(\"Even\")\n",
    "else:\n",
    "    print(\"Odd\")\n"
   ]
  },
  {
   "cell_type": "code",
   "execution_count": 4,
   "id": "174b46dc-f242-4565-947b-28bdc974e18b",
   "metadata": {},
   "outputs": [
    {
     "name": "stdin",
     "output_type": "stream",
     "text": [
      "Enter your age:  16\n"
     ]
    },
    {
     "name": "stdout",
     "output_type": "stream",
     "text": [
      "Teenager\n"
     ]
    }
   ],
   "source": [
    "# Que 2: Create a program that prompts the user for their age and prints whether\n",
    "# they are a child (0-12), teenager (13-19), or adult (20 and above).\n",
    "age = int(input(\"Enter your age: \"))\n",
    "if 0 <= age <= 12:\n",
    "    print(\"Child\")\n",
    "elif 13 <= age <= 19:\n",
    "    print(\"Teenager\")\n",
    "elif age >= 20:\n",
    "    print(\"Adult\")\n",
    "else:\n",
    "    print(\"Invalid age entered\")\n"
   ]
  },
  {
   "cell_type": "code",
   "execution_count": 6,
   "id": "2d06bff0-4e4e-4aae-8c12-c3bd343dd90f",
   "metadata": {},
   "outputs": [
    {
     "name": "stdin",
     "output_type": "stream",
     "text": [
      "Enter the first number:  20\n",
      "Enter the second number:  1\n"
     ]
    },
    {
     "name": "stdout",
     "output_type": "stream",
     "text": [
      "20.0 is larger.\n"
     ]
    }
   ],
   "source": [
    "# Que 3: Write a program that takes two numbers as input from the user and prints\n",
    "# which number is larger. If both numbers are equal, print \"Both numbers are equal.\"\n",
    "\n",
    "num1 = float(input(\"Enter the first number: \"))\n",
    "num2 = float(input(\"Enter the second number: \"))\n",
    "\n",
    "if num1 > num2:\n",
    "    print(f\"{num1} is larger.\")\n",
    "elif num2 > num1:\n",
    "    print(f\"{num2} is larger.\")\n",
    "else:\n",
    "    print(\"Both numbers are equal.\")\n"
   ]
  },
  {
   "cell_type": "code",
   "execution_count": 8,
   "id": "c7ac3bb3-4820-4b22-9f1a-6c7ba040c6f0",
   "metadata": {},
   "outputs": [
    {
     "name": "stdin",
     "output_type": "stream",
     "text": [
      "Enter the password:  654\n"
     ]
    },
    {
     "name": "stdout",
     "output_type": "stream",
     "text": [
      "Access Denied\n"
     ]
    }
   ],
   "source": [
    "# Ques 4: Create a program that checks if a user-entered password matches the string \"securePassword\". \n",
    "#Print \"Access Granted\" if it matches, otherwise print \"Access Denied.\"\n",
    "\n",
    "password = input(\"Enter the password: \")\n",
    "\n",
    "if password == \"securePassword\":\n",
    "    print(\"Access Granted\")\n",
    "else:\n",
    "    print(\"Access Denied\")\n"
   ]
  },
  {
   "cell_type": "code",
   "execution_count": 9,
   "id": "cb328998-2aac-4e4f-9db0-0dcb55db1ba5",
   "metadata": {},
   "outputs": [
    {
     "name": "stdin",
     "output_type": "stream",
     "text": [
      "Enter your score (0-100):  75\n"
     ]
    },
    {
     "name": "stdout",
     "output_type": "stream",
     "text": [
      "Grade: C\n"
     ]
    }
   ],
   "source": [
    "# Que 5:\n",
    "'''\n",
    "Write a program that takes a score from the user (0-100) and prints the\n",
    "corresponding grade:\n",
    "A for 90-100\n",
    "B for 80-89\n",
    "C for 70-79\n",
    "D for 60-69\n",
    "F for below 60\n",
    "'''\n",
    "score = int(input(\"Enter your score (0-100): \"))\n",
    "\n",
    "if 90 <= score <= 100:\n",
    "    print(\"Grade: A\")\n",
    "elif 80 <= score <= 89:\n",
    "    print(\"Grade: B\")\n",
    "elif 70 <= score <= 79:\n",
    "    print(\"Grade: C\")\n",
    "elif 60 <= score <= 69:\n",
    "    print(\"Grade: D\")\n",
    "elif 0 <= score < 60:\n",
    "    print(\"Grade: F\")\n",
    "else:\n",
    "    print(\"Invalid score entered.\")\n"
   ]
  },
  {
   "cell_type": "code",
   "execution_count": 11,
   "id": "b1d5a8ff-2437-40a3-9a8e-86a1010e41ae",
   "metadata": {},
   "outputs": [
    {
     "name": "stdin",
     "output_type": "stream",
     "text": [
      "Enter a number:  -5\n"
     ]
    },
    {
     "name": "stdout",
     "output_type": "stream",
     "text": [
      "The number is negative.\n"
     ]
    }
   ],
   "source": [
    "# Que 6: Create a program that asks the user for a number and checks if it is positive, negative, or zero. Print the corresponding message.\n",
    "num = float(input(\"Enter a number: \"))\n",
    "\n",
    "# Checking and printing the result\n",
    "if num > 0:\n",
    "    print(\"The number is positive.\")\n",
    "elif num < 0:\n",
    "    print(\"The number is negative.\")\n",
    "else:\n",
    "    print(\"The number is zero.\")\n"
   ]
  },
  {
   "cell_type": "code",
   "execution_count": 12,
   "id": "ffd89c2b-6b8b-421c-83d7-1c1f34648214",
   "metadata": {},
   "outputs": [
    {
     "name": "stdin",
     "output_type": "stream",
     "text": [
      "Enter the first number:  10\n",
      "Enter the second number:  20\n",
      "Enter the third number:  2\n"
     ]
    },
    {
     "name": "stdout",
     "output_type": "stream",
     "text": [
      "The largest number is: 20.0\n"
     ]
    }
   ],
   "source": [
    "# Que 7: Write a program that takes three numbers from the user and determines the largest of the three. Print the largest number.\n",
    "\n",
    "num1 = float(input(\"Enter the first number: \"))\n",
    "num2 = float(input(\"Enter the second number: \"))\n",
    "num3 = float(input(\"Enter the third number: \"))\n",
    "if num1 >= num2 and num1 >= num3:\n",
    "    print(f\"The largest number is: {num1}\")\n",
    "elif num2 >= num1 and num2 >= num3:\n",
    "    print(f\"The largest number is: {num2}\")\n",
    "else:\n",
    "    print(f\"The largest number is: {num3}\")\n"
   ]
  },
  {
   "cell_type": "code",
   "execution_count": 15,
   "id": "24a273d4-8fb2-46be-8457-9f76b994905a",
   "metadata": {},
   "outputs": [
    {
     "name": "stdin",
     "output_type": "stream",
     "text": [
      "Enter a single character:  o\n"
     ]
    },
    {
     "name": "stdout",
     "output_type": "stream",
     "text": [
      "The character is a vowel.\n"
     ]
    }
   ],
   "source": [
    "# Que 8: Create a program that checks if a user-entered character is a vowel (a, e, i, o, u) or a consonant. Print the corresponding message.\n",
    "\n",
    "char = input(\"Enter a single character: \").lower()\n",
    "if char in ('a', 'e', 'i', 'o', 'u'):\n",
    "    print(\"The character is a vowel.\")\n",
    "else:\n",
    "    print(\"The character is a consonant.\")\n",
    "\n"
   ]
  },
  {
   "cell_type": "code",
   "execution_count": 18,
   "id": "3eb8fb5b-3004-46d4-affe-273415728bc5",
   "metadata": {},
   "outputs": [
    {
     "name": "stdin",
     "output_type": "stream",
     "text": [
      "Enter a year:  2024\n"
     ]
    },
    {
     "name": "stdout",
     "output_type": "stream",
     "text": [
      "2024 is a leap year.\n"
     ]
    }
   ],
   "source": [
    "# Que 9: Write a program that checks if a given year is a leap year. A year is a leap\n",
    "# year if it is divisible by 4, except for years that are divisible by 100 but not divisible by 400.\n",
    "year = int(input(\"Enter a year: \"))\n",
    "if (year % 4 == 0 and year % 100 != 0) or (year % 400 == 0):\n",
    "    print(f\"{year} is a leap year.\")\n",
    "else:\n",
    "    print(f\"{year} is not a leap year.\")\n"
   ]
  },
  {
   "cell_type": "code",
   "execution_count": 21,
   "id": "158875e1-b52a-4f32-872c-9ba5dd53d19c",
   "metadata": {},
   "outputs": [
    {
     "name": "stdin",
     "output_type": "stream",
     "text": [
      "Enter temperature in Celsius:  40\n"
     ]
    },
    {
     "name": "stdout",
     "output_type": "stream",
     "text": [
      "Temperature in Fahrenheit: 104.00°F\n",
      "It's boiling!\n"
     ]
    }
   ],
   "source": [
    "# Que 10: Create a program that prompts the user for a temperature in Celsius and\n",
    "# converts it to Fahrenheit. If the converted temperature is greater than 100°F,\n",
    "# print \"It's boiling!\" Otherwise, print \"It's not boiling yet.\"\n",
    "celsius = float(input(\"Enter temperature in Celsius: \"))\n",
    "fahrenheit = (celsius * 9/5) + 32\n",
    "print(f\"Temperature in Fahrenheit: {fahrenheit:.2f}°F\")\n",
    "if fahrenheit > 100:\n",
    "    print(\"It's boiling!\")\n",
    "else:\n",
    "    print(\"It's not boiling yet.\")\n"
   ]
  },
  {
   "cell_type": "code",
   "execution_count": null,
   "id": "d1352c62-2671-4435-8733-fad7243ae378",
   "metadata": {},
   "outputs": [],
   "source": []
  }
 ],
 "metadata": {
  "kernelspec": {
   "display_name": "Python 3 (ipykernel)",
   "language": "python",
   "name": "python3"
  },
  "language_info": {
   "codemirror_mode": {
    "name": "ipython",
    "version": 3
   },
   "file_extension": ".py",
   "mimetype": "text/x-python",
   "name": "python",
   "nbconvert_exporter": "python",
   "pygments_lexer": "ipython3",
   "version": "3.12.10"
  }
 },
 "nbformat": 4,
 "nbformat_minor": 5
}
