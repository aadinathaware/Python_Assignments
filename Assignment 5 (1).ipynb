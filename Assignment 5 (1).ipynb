{
 "cells": [
  {
   "cell_type": "markdown",
   "id": "103f3f7d-cae6-4600-aabd-106d571c3a84",
   "metadata": {},
   "source": [
    "FUNCTIONS PROBLEMS"
   ]
  },
  {
   "cell_type": "code",
   "execution_count": 12,
   "id": "b040ee39-dcb2-4df5-8697-15bdcc87db06",
   "metadata": {},
   "outputs": [],
   "source": [
    "# 1. Given the temperature of a day in Degrees Celsius, convert this given\n",
    "# temperature from Celsius to Fahrenheit. Complete the function to do so.\n",
    "# Round the output up to 2 decimal places\n",
    "\n",
    "def celsius_farhenheit(Celsius):\n",
    "    result = (Celsius* 9/5)+32\n",
    "    return round(result ,2)"
   ]
  },
  {
   "cell_type": "code",
   "execution_count": 14,
   "id": "3421af15-41d3-4211-9609-957e6fa8675c",
   "metadata": {},
   "outputs": [
    {
     "data": {
      "text/plain": [
       "213.8"
      ]
     },
     "execution_count": 14,
     "metadata": {},
     "output_type": "execute_result"
    }
   ],
   "source": [
    " celsius_farhenheit(101)"
   ]
  },
  {
   "cell_type": "code",
   "execution_count": 24,
   "id": "33a6145f-e7ea-4540-af1b-3bc3a8555032",
   "metadata": {},
   "outputs": [],
   "source": [
    "# 2. Write a program to calculate the total amount if the principal\n",
    "# amount, simple interest rate per annum, and time in the number of days\n",
    "# are given. The simple interest rate per annum is provided as a percentage.\n",
    "# Assuming that there are 365 days in a year, print the total amount rounded\n",
    "# up to 2 decimal places.\n",
    "\n",
    "import math \n",
    "def calculate_total_amount(principal, rate, days):\n",
    "    simple_interest = (principal * (rate / 100) * days) / 365\n",
    "    total_amount = principal + simple_interest\n",
    "    return round(total_amount, 2)"
   ]
  },
  {
   "cell_type": "code",
   "execution_count": 26,
   "id": "87c9a6aa-b283-4142-8899-5c4efaa51d51",
   "metadata": {},
   "outputs": [
    {
     "data": {
      "text/plain": [
       "72913.15"
      ]
     },
     "execution_count": 26,
     "metadata": {},
     "output_type": "execute_result"
    }
   ],
   "source": [
    "calculate_total_amount(420, 420000, 15)"
   ]
  },
  {
   "cell_type": "code",
   "execution_count": 34,
   "id": "97d93e3f-5fb0-491a-b6a1-8e9e6b0d3aa9",
   "metadata": {},
   "outputs": [],
   "source": [
    "# 3. Write a program that takes the cost price of a vehicle as an argument and\n",
    "# returns the road tax, that the vehicle owner has to pay according to the\n",
    "# following criteria:\n",
    "\n",
    "def road_tax(cost_price):\n",
    "    if cost_price > 100000:\n",
    "       tax = 0.2 * cost_price\n",
    "    elif (cost_price > 75000 and price <= 100000):\n",
    "       tax = 0.15 * cost_price\n",
    "    elif (cost_price > 50000 and price <= 75000):\n",
    "       tax = 0.1 * cost_price\n",
    "    else:\n",
    "       tax = 0.05 * cost_price\n",
    "    return round(tax,1)    "
   ]
  },
  {
   "cell_type": "code",
   "execution_count": 38,
   "id": "58a3fc4d-ac37-4040-bb60-0810d0017bdf",
   "metadata": {},
   "outputs": [
    {
     "data": {
      "text/plain": [
       "50000.0"
      ]
     },
     "execution_count": 38,
     "metadata": {},
     "output_type": "execute_result"
    }
   ],
   "source": [
    "road_tax(250000)"
   ]
  },
  {
   "cell_type": "code",
   "execution_count": 40,
   "id": "2f4d1348-0ad9-4e02-adf7-c869c5eb1534",
   "metadata": {},
   "outputs": [],
   "source": [
    "# 4. You are given a positive integer A denoting the radius of a circle. You have\n",
    "# to calculate the area of the circle. Note: The formula for the area of a circle\n",
    "# is Area = πr2, where r is the circle's radius. You can use the value\n",
    "# problems on functions 3 of PI as 3.1416. Round up the final answer up to 2 decimal places. You can\n",
    "# use round(area, 2) for rounding area to 2 decimal places.\n",
    "\n",
    "def calculate_circle_area(radius):\n",
    "    pi = 3.1416\n",
    "    area = pi * (radius ** 2)\n",
    "    return round(area, 2)\n"
   ]
  },
  {
   "cell_type": "code",
   "execution_count": 42,
   "id": "94a39a44-4e70-4e60-895b-ebb0b435b2fe",
   "metadata": {},
   "outputs": [
    {
     "data": {
      "text/plain": [
       "314.16"
      ]
     },
     "execution_count": 42,
     "metadata": {},
     "output_type": "execute_result"
    }
   ],
   "source": [
    "calculate_circle_area(10)"
   ]
  },
  {
   "cell_type": "code",
   "execution_count": 61,
   "id": "0688b9d8-008b-47e6-849b-7de0a7f4bff2",
   "metadata": {},
   "outputs": [],
   "source": [
    "# 5. Given an integer n, write a program to return the sum of squares of first n\n",
    "# natural numbers in integer format.\n",
    "\n",
    "def sum_squares(n):\n",
    "    answer = (n*(n+1)*(2*n+1))//6\n",
    "\n",
    "    return answer"
   ]
  },
  {
   "cell_type": "code",
   "execution_count": 63,
   "id": "3c943780-3283-44e9-94f6-136ffca054a3",
   "metadata": {},
   "outputs": [
    {
     "data": {
      "text/plain": [
       "385"
      ]
     },
     "execution_count": 63,
     "metadata": {},
     "output_type": "execute_result"
    }
   ],
   "source": [
    "sum_squares(10)"
   ]
  },
  {
   "cell_type": "code",
   "execution_count": 79,
   "id": "f8d3be4d-47f2-4f2c-ba1c-c0501bb623e6",
   "metadata": {},
   "outputs": [],
   "source": [
    "# 6. You are given a lowercase latin alphabetic character C. You have to tell\n",
    "# whether it is a vowel or not.\n",
    "# The characters 'a', 'e', 'i', 'o', and 'u' are called vowels.\n",
    "\n",
    "def is_vowel(c: str) -> str:\n",
    "    if char in ['a', 'e', 'i', 'o', 'u']:\n",
    "        return \"Vowel\"\n",
    "    else:\n",
    "        return \"Not a vowel\"\n"
   ]
  },
  {
   "cell_type": "code",
   "execution_count": 83,
   "id": "3c2cef06-63d9-4eca-86a4-fb78c15bf9cc",
   "metadata": {},
   "outputs": [],
   "source": [
    "# 7. Given the height (A) and weight (B) of a person as input in centimetres and\n",
    "# kilograms.\n",
    "# Find the BMI of that person and the classification of the user based on their\n",
    "# BMI.\n",
    "# 1. Print Underweight if BMI < 18.5\n",
    "# 2. Print Normal if BMI lies in the range [18.5, 24.9]\n",
    "# 3. Print Overweight if BMI lies in the range (24.9, 29.9]\n",
    "# 4. Print Obese if BMI is greater than 29.9\n",
    "# If x is the weight in kilograms and y is the height in metres.\n",
    "# Then, BMI is calculated as x/(y*y).\n",
    "\n",
    "def calculate_bmi(weight_kg, height_cm):\n",
    "    height_m = height_cm / 100 \n",
    "    bmi = weight_kg / (height_m ** 2)\n",
    "    bmi = round(bmi, 2)  \n",
    "    \n",
    "  \n",
    "    if bmi < 18.5:\n",
    "        category = \"Underweight\"\n",
    "    elif 18.5 <= bmi <= 24.9:\n",
    "        category = \"Normal\"\n",
    "    elif 24.9 < bmi <= 29.9:\n",
    "        category = \"Overweight\"\n",
    "    else:\n",
    "        category = \"Obese\"\n",
    "    \n",
    "    return bmi, category"
   ]
  },
  {
   "cell_type": "code",
   "execution_count": 85,
   "id": "811c394f-fc8c-45a2-8420-3b11d89761a6",
   "metadata": {},
   "outputs": [
    {
     "data": {
      "text/plain": [
       "(24.65, 'Normal')"
      ]
     },
     "execution_count": 85,
     "metadata": {},
     "output_type": "execute_result"
    }
   ],
   "source": [
    "calculate_bmi(54, 148)"
   ]
  },
  {
   "cell_type": "markdown",
   "id": "2a72e992-c008-4e42-9fde-c6abb27a67f8",
   "metadata": {},
   "source": [
    "IF ELSE PROBLEMS"
   ]
  },
  {
   "cell_type": "code",
   "execution_count": 8,
   "id": "8dc3434a-e465-4567-a561-2f9fd1fdaefd",
   "metadata": {},
   "outputs": [
    {
     "name": "stdin",
     "output_type": "stream",
     "text": [
      " 110\n",
      " 40\n",
      " 30\n"
     ]
    },
    {
     "name": "stdout",
     "output_type": "stream",
     "text": [
      "1\n"
     ]
    }
   ],
   "source": [
    "# 1. You are given 3 integer angles(in degrees) A, B and C of a triangle. You\n",
    "# have to tell whether the triangle is valid or not.\n",
    "# A triangle is valid if sum of its angles equals to 180.\n",
    "\n",
    "A = int(input())\n",
    "B = int(input())\n",
    "C = int(input())\n",
    "if A+B+C == 180:\n",
    "    print (\"1\")\n",
    "else:\n",
    "    print(\"0\")"
   ]
  },
  {
   "cell_type": "code",
   "execution_count": 10,
   "id": "0f089ac1-500c-4b6b-9155-2cd98d30d2db",
   "metadata": {},
   "outputs": [
    {
     "name": "stdin",
     "output_type": "stream",
     "text": [
      " 10\n",
      " 20\n"
     ]
    },
    {
     "name": "stdout",
     "output_type": "stream",
     "text": [
      "20\n"
     ]
    }
   ],
   "source": [
    "# 2. Write a program to input two numbers(A & B) from user and print the maximum element among A & B.\n",
    "\n",
    "A = int(input())\n",
    "B = int(input())\n",
    "if 1 <= A <= 1000000 and 1 <= B <= 1000000:\n",
    "    print(max(A,B))"
   ]
  },
  {
   "cell_type": "code",
   "execution_count": 12,
   "id": "91ca3866-5012-4890-af4d-48ea25ac0427",
   "metadata": {},
   "outputs": [
    {
     "name": "stdin",
     "output_type": "stream",
     "text": [
      " 1000\n",
      " 1200\n"
     ]
    },
    {
     "name": "stdout",
     "output_type": "stream",
     "text": [
      "200\n",
      "Profit:  200\n"
     ]
    }
   ],
   "source": [
    "# 3. You are given the Cost Price C and Selling Price S of a Product. You have to\n",
    "# tell whether there is a Profit or Loss. Also, calculate total profit or loss.\n",
    "\n",
    "C = int(input())\n",
    "S = int(input())\n",
    "Profit = S-C\n",
    "if 1<=C and S<= 10**9 and C != S and Profit > 1:\n",
    "    print(Profit)\n",
    "    print('Profit: ' , S-C)\n",
    "else:\n",
    "    print(-1)\n",
    "    print('Loss: ' ,(S-C))"
   ]
  },
  {
   "cell_type": "code",
   "execution_count": 14,
   "id": "cada6702-8d98-454e-81d9-aefa59500d2f",
   "metadata": {},
   "outputs": [
    {
     "name": "stdin",
     "output_type": "stream",
     "text": [
      " 310\n"
     ]
    },
    {
     "name": "stdout",
     "output_type": "stream",
     "text": [
      "Even-Positive\n"
     ]
    }
   ],
   "source": [
    "# 4. Given the number N, Categorise the number according to following condition :1. Odd-Positive2. Odd-Negative3. Even-Positive4. Even-\n",
    "\n",
    "N = int(input())\n",
    "if -10000 <= N <= 10000 and N !=0:\n",
    "    if N < 0 and N%2 == 0:\n",
    "        print(\"Even-Negative\")\n",
    "    elif N > 0 and N % 2 == 0:\n",
    "        print(\"Even-Positive\")\n",
    "    elif N < 0 and N % 2 != 0:\n",
    "        print(\"Odd-Negative\")\n",
    "    else:\n",
    "        print(\"Odd-Positive\")"
   ]
  },
  {
   "cell_type": "markdown",
   "id": "56412c2e-b5d1-4ec7-bce8-b461dc9cca70",
   "metadata": {},
   "source": [
    "Loops"
   ]
  },
  {
   "cell_type": "code",
   "execution_count": 1,
   "id": "a1599178-269d-4986-a33c-35f792cbe78c",
   "metadata": {},
   "outputs": [
    {
     "name": "stdin",
     "output_type": "stream",
     "text": [
      " 0\n"
     ]
    }
   ],
   "source": [
    "# Take T (number of test cases) as input.\n",
    "# For each test case, take integer N as input and Print the count of digits of that number.\n",
    "T = int(input())\n",
    "for _ in range(T):\n",
    "    N = int(input())\n",
    "    if N == 0:\n",
    "        print(1)\n",
    "    else:\n",
    "        print(len(str(N)))"
   ]
  },
  {
   "cell_type": "code",
   "execution_count": 2,
   "id": "ed712236-dcdb-4e24-b325-2ee1f2af6f85",
   "metadata": {},
   "outputs": [
    {
     "name": "stdin",
     "output_type": "stream",
     "text": [
      " 2\n",
      " 1234\n",
      " 12354\n"
     ]
    },
    {
     "name": "stdout",
     "output_type": "stream",
     "text": [
      "45321\n"
     ]
    }
   ],
   "source": [
    "# Write a program that accepts T numbers(N) from the user and find reverse of the given number(N).\n",
    "T = int(input())\n",
    "for _ in range(T):\n",
    "    N = int(input())\n",
    "    reverse = 0\n",
    "while N > 0:\n",
    "    digit = N % 10\n",
    "    reverse = reverse * 10 + digit\n",
    "    N = N // 10\n",
    "print(reverse)"
   ]
  },
  {
   "cell_type": "code",
   "execution_count": 3,
   "id": "ee34bb58-9d8f-4a92-90cd-1a5a3d39a102",
   "metadata": {},
   "outputs": [
    {
     "name": "stdin",
     "output_type": "stream",
     "text": [
      " 5\n"
     ]
    },
    {
     "name": "stdout",
     "output_type": "stream",
     "text": [
      "*     *\n",
      "*    *\n",
      "*   *\n",
      "*  *\n",
      "* *\n"
     ]
    }
   ],
   "source": [
    "# Take an integer N as input. Print the following pattern of N lines. For N = 5 The following pattern is printed.\n",
    "N = int(input())\n",
    "for i in range(N, 0, -1):\n",
    "    for j in range(0, i + 2):\n",
    "        if j == 0 or j == i + 1:\n",
    "            print(\"*\", end=\"\")\n",
    "        else:\n",
    "            print(\" \", end=\"\")\n",
    "    print()"
   ]
  },
  {
   "cell_type": "code",
   "execution_count": 4,
   "id": "82249d4d-2520-4e98-a434-f0020f461f22",
   "metadata": {},
   "outputs": [
    {
     "name": "stdin",
     "output_type": "stream",
     "text": [
      " 5\n"
     ]
    },
    {
     "name": "stdout",
     "output_type": "stream",
     "text": [
      "*****\n",
      " ****\n",
      "  ***\n",
      "   **\n",
      "    *\n"
     ]
    }
   ],
   "source": [
    "# Take an integer N as input, print the corresponding pattern for N.\n",
    "N = int(input())\n",
    "for i in range(1, N + 1):\n",
    "    for j in range(1, N + 1):\n",
    "        if j < i:\n",
    "            print(\" \", end=\"\")\n",
    "        else:\n",
    "            print(\"*\", end=\"\")\n",
    "    print()"
   ]
  },
  {
   "cell_type": "code",
   "execution_count": 5,
   "id": "5cb7c671-1e61-4b70-b148-db490b762c91",
   "metadata": {},
   "outputs": [
    {
     "name": "stdin",
     "output_type": "stream",
     "text": [
      " 5\n"
     ]
    },
    {
     "name": "stdout",
     "output_type": "stream",
     "text": [
      "    * \n",
      "   * * \n",
      "  * * * \n",
      " * * * * \n",
      "* * * * * \n"
     ]
    }
   ],
   "source": [
    "# Take an integer N, print the corresponding Full Pyramid pattern for N. For example if N = 5 then pattern will be like:\n",
    "N = int(input())\n",
    "for i in range(N):\n",
    "    print(\" \" * (N - i - 1) + \"* \" * (i + 1))"
   ]
  },
  {
   "cell_type": "code",
   "execution_count": 6,
   "id": "57c54785-5e8d-472f-a6ca-012bd66a9f7c",
   "metadata": {},
   "outputs": [
    {
     "name": "stdin",
     "output_type": "stream",
     "text": [
      " 5\n"
     ]
    },
    {
     "name": "stdout",
     "output_type": "stream",
     "text": [
      "1\n",
      "1_\n",
      "1_3\n",
      "1_3_\n",
      "1_3_5\n"
     ]
    }
   ],
   "source": [
    "# Take an integer N as input, print the corresponding pattern for N. For example if N = 5 then pattern will be like:\n",
    "n = int(input())\n",
    "for r in range(1, n + 1):\n",
    "    for j in range(1, r + 1):\n",
    "        if j % 2 != 0:\n",
    "            print(j, end=\"\")\n",
    "        else:\n",
    "            print(\"_\", end=\"\")\n",
    "    print()"
   ]
  },
  {
   "cell_type": "code",
   "execution_count": 9,
   "id": "6602d60e-1621-4378-bdb3-7486fec87b54",
   "metadata": {},
   "outputs": [
    {
     "name": "stdin",
     "output_type": "stream",
     "text": [
      " 5\n"
     ]
    },
    {
     "name": "stdout",
     "output_type": "stream",
     "text": [
      "*****\n",
      "****\n",
      "***\n",
      "**\n",
      "*\n"
     ]
    }
   ],
   "source": [
    "# Take an Integer N as input. Print an Inverse half pyramid of N lines using * . For example for N = 5, the output should be the following pattern:-\n",
    "N = int(input())\n",
    "for i in range(N, 0, -1):\n",
    "    print(\"*\" * i)"
   ]
  },
  {
   "cell_type": "code",
   "execution_count": 10,
   "id": "e4c31a12-31a4-426e-8d0d-2c2090535542",
   "metadata": {},
   "outputs": [
    {
     "name": "stdin",
     "output_type": "stream",
     "text": [
      " 5\n"
     ]
    },
    {
     "name": "stdout",
     "output_type": "stream",
     "text": [
      "    *\n",
      "   **\n",
      "  ***\n",
      " ****\n",
      "*****\n"
     ]
    }
   ],
   "source": [
    "#  Take an integer N as input, print the corresponding pattern for N. For example if N = 5 then pattern will be like:\n",
    "N = int(input())\n",
    "for i in range(N, 0, -1):\n",
    "    print(\" \" * (i - 1) + \"*\" * (N - i + 1))"
   ]
  },
  {
   "cell_type": "code",
   "execution_count": null,
   "id": "0c587858-eb53-4e8a-b40d-853818176b45",
   "metadata": {},
   "outputs": [],
   "source": []
  }
 ],
 "metadata": {
  "kernelspec": {
   "display_name": "Python 3 (ipykernel)",
   "language": "python",
   "name": "python3"
  },
  "language_info": {
   "codemirror_mode": {
    "name": "ipython",
    "version": 3
   },
   "file_extension": ".py",
   "mimetype": "text/x-python",
   "name": "python",
   "nbconvert_exporter": "python",
   "pygments_lexer": "ipython3",
   "version": "3.12.10"
  }
 },
 "nbformat": 4,
 "nbformat_minor": 5
}
