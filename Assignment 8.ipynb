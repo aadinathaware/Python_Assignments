{
 "cells": [
  {
   "cell_type": "markdown",
   "metadata": {},
   "source": [
    "# Assignment 8\n",
    "Python Control Flow, Comprehensions, and Generators"
   ]
  },
  {
   "cell_type": "code",
   "execution_count": 1,
   "metadata": {},
   "outputs": [
    {
     "name": "stdout",
     "output_type": "stream",
     "text": [
      "just right\n",
      "too low\n",
      "too high\n"
     ]
    }
   ],
   "source": [
    "# 1. Conditional Logic\n",
    "# Write a function that checks a number against 7 and prints: \n",
    "#• 'too low' if less than 7, \n",
    "#• 'just right' if equal to 7, \n",
    "#• 'too high' if greater than 7. \n",
    "# Call the function with the values 7, 5, and 15. \n",
    "def check_number(num):\n",
    "    if num < 7:\n",
    "        print(\"too low\")\n",
    "    elif num == 7:\n",
    "        print(\"just right\")\n",
    "    else:\n",
    "        print(\"too high\")\n",
    "\n",
    "check_number(7)\n",
    "check_number(5)\n",
    "check_number(15)"
   ]
  },
  {
   "cell_type": "code",
   "execution_count": 2,
   "metadata": {},
   "outputs": [
    {
     "name": "stdout",
     "output_type": "stream",
     "text": [
      "too low\n",
      "too low\n",
      "too low\n",
      "too low\n",
      "too low\n",
      "too low\n",
      "found it\n"
     ]
    }
   ],
   "source": [
    "# 2. While Loop Comparison\n",
    "# Write a while True: loop that compares start with guess_me: \n",
    "# • Print 'too low' if start < guess_me \n",
    "# • Print 'found it' and break if equal \n",
    "# • Print 'too high' and break if greater \n",
    "# Increment start at the end of each loop cycle. \n",
    "guess_me = 7\n",
    "start = 1\n",
    "\n",
    "while True:\n",
    "    if start < guess_me:\n",
    "        print(\"too low\")\n",
    "    elif start == guess_me:\n",
    "        print(\"found it\")\n",
    "        break\n",
    "    else:\n",
    "        print(\"too high\")\n",
    "        break\n",
    "    start += 1"
   ]
  },
  {
   "cell_type": "code",
   "execution_count": 3,
   "metadata": {},
   "outputs": [
    {
     "name": "stdout",
     "output_type": "stream",
     "text": [
      "3\n",
      "2\n",
      "1\n",
      "0\n"
     ]
    }
   ],
   "source": [
    "# 3. Loop Through a List\n",
    "# Use a for loop to print each element in this list: \n",
    "# [3, 2, 1, 0] \n",
    "for number in [3, 2, 1, 0]:\n",
    "    print(number)"
   ]
  },
  {
   "cell_type": "code",
   "execution_count": 4,
   "metadata": {},
   "outputs": [
    {
     "name": "stdout",
     "output_type": "stream",
     "text": [
      "[0, 2, 4, 6, 8, 10]\n"
     ]
    }
   ],
   "source": [
    "# 4. List Comprehension\n",
    "# Use a list comprehension to generate a list of even numbers from 0 to 10. \n",
    "even_numbers = [x for x in range(11) if x % 2 == 0]\n",
    "print(even_numbers)"
   ]
  },
  {
   "cell_type": "code",
   "execution_count": 5,
   "metadata": {},
   "outputs": [
    {
     "name": "stdout",
     "output_type": "stream",
     "text": [
      "{0: 0, 1: 1, 2: 4, 3: 9, 4: 16, 5: 25, 6: 36, 7: 49, 8: 64, 9: 81}\n"
     ]
    }
   ],
   "source": [
    "# 5. Dictionary Comprehension\n",
    "# Use a dictionary comprehension (or another method) to create a dictionary called squares where:\n",
    "squares = {x: x**2 for x in range(10)}\n",
    "print(squares)"
   ]
  },
  {
   "cell_type": "code",
   "execution_count": 6,
   "metadata": {},
   "outputs": [
    {
     "name": "stdout",
     "output_type": "stream",
     "text": [
      "{1, 3, 5, 7, 9}\n"
     ]
    }
   ],
   "source": [
    "# 6. Set Comprehension\n",
    "# Create a set odd that contains all the odd numbers from 0 to 9 using a set comprehension. \n",
    "odd = {x for x in range(10) if x % 2 != 0}\n",
    "print(odd)"
   ]
  },
  {
   "cell_type": "code",
   "execution_count": 7,
   "metadata": {},
   "outputs": [
    {
     "name": "stdout",
     "output_type": "stream",
     "text": [
      "Got_0 Got_1 Got_2 Got_3 Got_4 Got_5 Got_6 Got_7 Got_8 Got_9\n"
     ]
    }
   ],
   "source": [
    "# 7. Generator Expression\n",
    "# Use a generator expression to create strings like 'Got_0', 'Got_1', ..., 'Got_9'. \n",
    "# Iterate over the generator using a for loop and print the results in one line separated by spaces.\n",
    "gen = (\"Got_\" + str(x) for x in range(10))\n",
    "print(\" \".join(gen))"
   ]
  },
  {
   "cell_type": "code",
   "execution_count": 8,
   "metadata": {},
   "outputs": [
    {
     "name": "stdout",
     "output_type": "stream",
     "text": [
      "['Harry', 'Ron', 'Hermione']\n"
     ]
    }
   ],
   "source": [
    "# 8. Define a Simple Function\n",
    "# Define a function good() that returns this list: \n",
    "# ['Harry', 'Ron', 'Hermione']\n",
    "def good():\n",
    "    return ['Harry', 'Ron', 'Hermione']\n",
    "\n",
    "print(good())"
   ]
  },
  {
   "cell_type": "code",
   "execution_count": 9,
   "metadata": {},
   "outputs": [
    {
     "name": "stdout",
     "output_type": "stream",
     "text": [
      "Third odd number is: 5\n"
     ]
    }
   ],
   "source": [
    "# 9. Generator Function and Indexing\n",
    "# Define a generator function get_odds() that yields odd numbers from 0 to 9. \n",
    "# Use a loop or generator handling to find and print the third odd number generated. \n",
    "def get_odds():\n",
    "    for num in range(10):\n",
    "        if num % 2 != 0:\n",
    "            yield num\n",
    "\n",
    "for idx, val in enumerate(get_odds(), 1):\n",
    "    if idx == 3:\n",
    "        print(\"Third odd number is:\", val)\n",
    "        break"
   ]
  },
  {
   "cell_type": "code",
   "execution_count": 10,
   "metadata": {},
   "outputs": [
    {
     "name": "stdout",
     "output_type": "stream",
     "text": [
      "{'Creature of Habit': 'A nun turns into a monster', 'Crewel Fate': 'A haunted yarn shop'}\n"
     ]
    }
   ],
   "source": [
    "# 10. Use zip() to Build a Dictionary\n",
    "titles = ['Creature of Habit', 'Crewel Fate']\n",
    "plots = ['A nun turns into a monster', 'A haunted yarn shop']\n",
    "movies = dict(zip(titles, plots))\n",
    "print(movies)"
   ]
  }
 ],
 "metadata": {
  "kernelspec": {
   "display_name": "Python 3 (ipykernel)",
   "language": "python",
   "name": "python3"
  },
  "language_info": {
   "codemirror_mode": {
    "name": "ipython",
    "version": 3
   },
   "file_extension": ".py",
   "mimetype": "text/x-python",
   "name": "python",
   "nbconvert_exporter": "python",
   "pygments_lexer": "ipython3",
   "version": "3.12.10"
  }
 },
 "nbformat": 4,
 "nbformat_minor": 4
}
