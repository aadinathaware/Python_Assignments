{
 "cells": [
  {
   "cell_type": "code",
   "execution_count": 7,
   "id": "415806b8-0716-443c-94b1-4e3296a25518",
   "metadata": {},
   "outputs": [
    {
     "name": "stdin",
     "output_type": "stream",
     "text": [
      "Enter your age:  25\n"
     ]
    },
    {
     "name": "stdout",
     "output_type": "stream",
     "text": [
      "25\n"
     ]
    },
    {
     "data": {
      "text/plain": [
       "int"
      ]
     },
     "execution_count": 7,
     "metadata": {},
     "output_type": "execute_result"
    }
   ],
   "source": [
    "#Create a variable age and assign it the value 25 .Then print the value of age along with its data type using the type() function.\n",
    "Age = int(input('Enter your age: '))\n",
    "print (Age)\n",
    "type(Age)"
   ]
  },
  {
   "cell_type": "code",
   "execution_count": 38,
   "id": "0e165733-f4ab-40be-9ada-5572c69a8e89",
   "metadata": {},
   "outputs": [
    {
     "name": "stdout",
     "output_type": "stream",
     "text": [
      "12.5\n",
      "<class 'float'>\n",
      "12\n",
      "<class 'int'>\n"
     ]
    }
   ],
   "source": [
    "#Assign the number 12.5 to a variable price . Print both the variable and its data type. Then assign the value 12 to the\n",
    "#same variable and print its data \n",
    "#type again. What do you observe?\n",
    "Price = 12.5\n",
    "print(price)\n",
    "print(type(price))\n",
    "price = 12\n",
    "print( price)\n",
    "print(type(price))\n"
   ]
  },
  {
   "cell_type": "code",
   "execution_count": 35,
   "id": "4d0834c8-9239-4d1b-bd08-2b59f290eaa1",
   "metadata": {},
   "outputs": [
    {
     "name": "stdout",
     "output_type": "stream",
     "text": [
      "True\n",
      "<class 'bool'>\n",
      "False\n",
      "<class 'bool'>\n"
     ]
    }
   ],
   "source": [
    "#Create a variable is_raining and set it to True . Print the value of the variable\n",
    "#along with its type. Then set is_raining to False and print the new value and type.\n",
    "is_raining = True\n",
    "print(is_raining)\n",
    "print(type(is_raining))\n",
    "is_raining = False\n",
    "print(is_raining)\n",
    "print (type(is_raining))\n"
   ]
  },
  {
   "cell_type": "code",
   "execution_count": 40,
   "id": "f2e4ca8b-0d85-48f5-96dc-f2cfe487c974",
   "metadata": {},
   "outputs": [
    {
     "name": "stdout",
     "output_type": "stream",
     "text": [
      "Aadinath Aware\n"
     ]
    }
   ],
   "source": [
    "#Create a variable my_name and store your full name in it as a string. Then\n",
    "#print the value of my_name using single quotes ' .\n",
    "my_name = 'Aadinath Aware'\n",
    "print (my_name)"
   ]
  },
  {
   "cell_type": "code",
   "execution_count": 58,
   "id": "9076f1ec-a1bc-4d72-bf24-ca8ff2b6467e",
   "metadata": {},
   "outputs": [
    {
     "name": "stdin",
     "output_type": "stream",
     "text": [
      "Enter your Name: Aadinath\n",
      "Enter your Age: 23\n"
     ]
    },
    {
     "name": "stdout",
     "output_type": "stream",
     "text": [
      "hello Aadinath ! you are 23 years old.\n"
     ]
    }
   ],
   "source": [
    "## Write a Python program that asks the user for their name and age using theinput() function.Store the inputs in variables and print a sentence like\n",
    "#\"Hello, [Name]! You are [Age] years old.\" Ensure you cast the age to an integer.\n",
    "Name = input('Enter your Name:')\n",
    "Age = int(input('Enter your Age:'))\n",
    "print ('hello', Name,'! you are', Age, 'years old.') "
   ]
  },
  {
   "cell_type": "code",
   "execution_count": 70,
   "id": "26b835f4-c61b-434e-bb84-a636067958ec",
   "metadata": {},
   "outputs": [
    {
     "name": "stdout",
     "output_type": "stream",
     "text": [
      "10\n",
      "<class 'int'>\n",
      "3.5\n",
      "<class 'float'>\n",
      "13.5\n",
      "<class 'float'>\n"
     ]
    }
   ],
   "source": [
    "#Create two variables x and y and assign them the values 10 and 3.5 ,respectively. \n",
    "#Print their values and types. Then, create a new variable\n",
    "#sum_xy and store the sum of x and y . Print the result and its type.\n",
    "x = 10\n",
    "y = 3.5\n",
    "print(x)\n",
    "print(type(x))\n",
    "print(y)\n",
    "print(type(y))\n",
    "sum_xy = x + y\n",
    "print (sum_xy)\n",
    "print(type(sum_xy))\n"
   ]
  },
  {
   "cell_type": "code",
   "execution_count": 73,
   "id": "2463bc29-29f0-43dc-981d-c2e3fafe994a",
   "metadata": {},
   "outputs": [
    {
     "name": "stdout",
     "output_type": "stream",
     "text": [
      "<class 'float'>\n",
      "<class 'str'>\n",
      "<class 'NoneType'>\n",
      "<class 'bool'>\n"
     ]
    }
   ],
   "source": [
    "# Using the type() function, check and print the data type of the following:\n",
    "# 45.0, \"hello\", None, False.\n",
    "print (type(45.0))\n",
    "print (type('hello'))\n",
    "print (type(None))\n",
    "print (type(False))"
   ]
  },
  {
   "cell_type": "code",
   "execution_count": 85,
   "id": "9ac80769-16d1-456a-935e-5b31ca7eac82",
   "metadata": {},
   "outputs": [
    {
     "name": "stdout",
     "output_type": "stream",
     "text": [
      "Apple Banana Cherry\n",
      "Apple,Banana,Cherry\n"
     ]
    }
   ],
   "source": [
    "#Write a Python program to print three strings \"apple\" , \"banana\" , and \"cherry\"\n",
    "#on the same line, separated by a space. Then modify the program to\n",
    "#separate the strings using a comma , instead of a space.\n",
    "print('Apple','Banana','Cherry')\n",
    "#modify sep\n",
    "print ('Apple','Banana','Cherry', sep=',')\n"
   ]
  },
  {
   "cell_type": "code",
   "execution_count": 86,
   "id": "d188bf7e-8ad7-44c6-b9c3-1ec119f92bf7",
   "metadata": {},
   "outputs": [
    {
     "name": "stdout",
     "output_type": "stream",
     "text": [
      "495126198498465165415\n",
      "<class 'int'>\n"
     ]
    }
   ],
   "source": [
    "# Create a variable big_number and assign it a very large integer value (e.g.,987654321987654321 ). \n",
    "#Print the value and its type. What do you notice about the size of the number?\n",
    "Big_number = 495126198498465165415\n",
    "print (Big_number)\n",
    "print(type(Big_number))"
   ]
  },
  {
   "cell_type": "code",
   "execution_count": 89,
   "id": "1ab3293e-7e90-4ac0-8212-93ed4ffa7f0f",
   "metadata": {},
   "outputs": [
    {
     "name": "stdout",
     "output_type": "stream",
     "text": [
      "9.25\n",
      "<class 'float'>\n"
     ]
    }
   ],
   "source": [
    "# Write a Python program that prints the result of multiplying two floats \n",
    "#(e.g., 2.5 and 3.7 ). Then check and print the data type of the result.\n",
    "x = 2.5 \n",
    "y = 3.7\n",
    "print (x*y)\n",
    "print(type(x*y))"
   ]
  },
  {
   "cell_type": "code",
   "execution_count": null,
   "id": "05bbb123-03ee-4db7-b7d4-cd79a8f85c34",
   "metadata": {},
   "outputs": [],
   "source": []
  }
 ],
 "metadata": {
  "kernelspec": {
   "display_name": "Python 3 (ipykernel)",
   "language": "python",
   "name": "python3"
  },
  "language_info": {
   "codemirror_mode": {
    "name": "ipython",
    "version": 3
   },
   "file_extension": ".py",
   "mimetype": "text/x-python",
   "name": "python",
   "nbconvert_exporter": "python",
   "pygments_lexer": "ipython3",
   "version": "3.12.9"
  }
 },
 "nbformat": 4,
 "nbformat_minor": 5
}
