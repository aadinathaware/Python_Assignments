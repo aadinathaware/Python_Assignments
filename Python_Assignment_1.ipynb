{
 "cells": [
  {
   "cell_type": "code",
   "execution_count": 1,
   "id": "d685740e-d743-4e44-aaec-be3e51a43da6",
   "metadata": {},
   "outputs": [
    {
     "name": "stdout",
     "output_type": "stream",
     "text": [
      "Aadinath Aware \n",
      "Red\n"
     ]
    }
   ],
   "source": [
    "#Write a Python program to print your name and favourite colour on two separate lines.\n",
    "print('Aadinath Aware \\nRed')"
   ]
  },
  {
   "cell_type": "code",
   "execution_count": 2,
   "id": "79eafdae-357a-42ef-8b28-e29eb0c37d6d",
   "metadata": {},
   "outputs": [
    {
     "name": "stdout",
     "output_type": "stream",
     "text": [
      "15\n"
     ]
    }
   ],
   "source": [
    "#Write a Python program that prints the result of adding 7 and 8.\n",
    "print(7 + 8)"
   ]
  },
  {
   "cell_type": "code",
   "execution_count": 3,
   "id": "7d4985eb-1d7a-4bed-acde-c43afb4a484b",
   "metadata": {},
   "outputs": [
    {
     "name": "stdout",
     "output_type": "stream",
     "text": [
      "Python is fun! \n",
      "Let's learn together.\n"
     ]
    }
   ],
   "source": [
    "#Use the print function to display the following text exactly as it is:\n",
    "#Python is fun!\n",
    "#Let's learn together.\n",
    "print(\"Python is fun! \\nLet's learn together.\")"
   ]
  },
  {
   "cell_type": "code",
   "execution_count": 4,
   "id": "84fd7c93-757d-407f-9ecb-3142b2777ed0",
   "metadata": {},
   "outputs": [
    {
     "name": "stdout",
     "output_type": "stream",
     "text": [
      "54\n"
     ]
    }
   ],
   "source": [
    "#Write a Python program to calculate and print the result of multiplying 6 by 9.\n",
    "print (6*9)"
   ]
  },
  {
   "cell_type": "code",
   "execution_count": 5,
   "id": "4e20fa02-98f1-42f0-8cdb-6a1874d5fd5e",
   "metadata": {},
   "outputs": [
    {
     "name": "stdout",
     "output_type": "stream",
     "text": [
      "10 6\n"
     ]
    }
   ],
   "source": [
    "#Write a Python program that prints the result of adding 5 + 5 and multiplying 2 * 3 in a single line of code.\n",
    "print(5+5, 2*3)"
   ]
  },
  {
   "cell_type": "code",
   "execution_count": 6,
   "id": "35f9f205-e7a9-49d8-b7d5-772d4f239429",
   "metadata": {},
   "outputs": [
    {
     "name": "stdin",
     "output_type": "stream",
     "text": [
      "Enter you name:  Aadinath\n"
     ]
    },
    {
     "name": "stdout",
     "output_type": "stream",
     "text": [
      "hello A\n"
     ]
    }
   ],
   "source": [
    "#Take the name A as input from the user and print \"Hello A\", where A is the name in input.\n",
    "A = input('Enter you name: ')\n",
    "print('hello',A)"
   ]
  },
  {
   "cell_type": "code",
   "execution_count": null,
   "id": "91452421-6ba9-4b18-a10d-81427cc0ae62",
   "metadata": {},
   "outputs": [],
   "source": [
    "# You have x rupees in your savings. You google pay y rupees, print your bank balance.\n",
    "x = int(input(\"Enter your savings: \"))\n",
    "y = int(input(\"Enter amount you Google Pay: \"))\n",
    "print(\"Your bank balance is:\", x - y)"
   ]
  },
  {
   "cell_type": "code",
   "execution_count": null,
   "id": "0f6b9ad2-95c1-4c82-98c2-28ec84bb97ed",
   "metadata": {},
   "outputs": [],
   "source": [
    "#Print the first five letters of the English alphabet i.e. A, B, C, D and E. one below each other.\n",
    "print('A \\nB \\nC \\nD \\nE')\n"
   ]
  },
  {
   "cell_type": "code",
   "execution_count": null,
   "id": "b06bf634-f716-4406-9468-5226269ff24e",
   "metadata": {},
   "outputs": [],
   "source": [
    "#Take two names A and B as input from the user, and print \"A says Hi to B\" (Without quotations), where A and B are the names in input.\n",
    "A = input('Enter your name: ')\n",
    "B = input('Enter your name: ')\n",
    "print (A +' says hi to '+ B)\n"
   ]
  },
  {
   "cell_type": "code",
   "execution_count": null,
   "id": "611194f6-1ceb-4b49-8be4-3bd8c801b684",
   "metadata": {},
   "outputs": [],
   "source": []
  }
 ],
 "metadata": {
  "kernelspec": {
   "display_name": "Python 3 (ipykernel)",
   "language": "python",
   "name": "python3"
  },
  "language_info": {
   "codemirror_mode": {
    "name": "ipython",
    "version": 3
   },
   "file_extension": ".py",
   "mimetype": "text/x-python",
   "name": "python",
   "nbconvert_exporter": "python",
   "pygments_lexer": "ipython3",
   "version": "3.12.10"
  }
 },
 "nbformat": 4,
 "nbformat_minor": 5
}
